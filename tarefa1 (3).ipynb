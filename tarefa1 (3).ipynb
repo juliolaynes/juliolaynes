{
  "nbformat": 4,
  "nbformat_minor": 0,
  "metadata": {
    "colab": {
      "provenance": []
    },
    "kernelspec": {
      "name": "python3",
      "display_name": "Python 3"
    },
    "language_info": {
      "name": "python"
    }
  },
  "cells": [
    {
      "cell_type": "code",
      "source": [
        "while True:\n",
        "  num1 = float(input(\"Digite o primeiro número: \"))\n",
        "  num2 = float(input(\"Digite o segundo número: \"))\n",
        "  operação = input(\"Escolha a operação (+, -, *, /): \")\n",
        "\n",
        "  if operação == \"+\":\n",
        "    print(\"Resultado: \", num1 + num2)\n",
        "  elif operação == \"-\":\n",
        "    print(\"Resultado: \", num1 - num2)\n",
        "  elif operação == \"*\":\n",
        "    print(\"Resultado: \", num1 * num2)\n",
        "  elif operação == \"/\":\n",
        "    print(\"Resultado: \", num1 / num2)\n",
        "  else:\n",
        "    print(\"Operação inválida.\")\n",
        "  continuar = input(\"deseja continuar? (s/n)\")\n",
        "  if continuar == \"n\":\n",
        "    break"
      ],
      "metadata": {
        "colab": {
          "base_uri": "https://localhost:8080/"
        },
        "id": "pgaW2DUuLf6C",
        "outputId": "6494217b-e94f-4787-d850-a9bd6f4f9e43"
      },
      "execution_count": null,
      "outputs": [
        {
          "name": "stdout",
          "output_type": "stream",
          "text": [
            "Digite o primeiro número: 70\n",
            "Digite o segundo número: 50\n",
            "Escolha a operação (+, -, *, /): +\n",
            "Resultado:  120.0\n",
            "deseja continuar? (s/n)s\n",
            "Digite o primeiro número: 70\n",
            "Digite o segundo número: 90\n",
            "Escolha a operação (+, -, *, /): -\n",
            "Resultado:  -20.0\n",
            "deseja continuar? (s/n)s\n",
            "Digite o primeiro número: 70\n",
            "Digite o segundo número: 120\n",
            "Escolha a operação (+, -, *, /): *\n",
            "Resultado:  8400.0\n",
            "deseja continuar? (s/n)s\n",
            "Digite o primeiro número: 90\n",
            "Digite o segundo número: 120\n",
            "Escolha a operação (+, -, *, /): /\n",
            "Resultado:  0.75\n",
            "deseja continuar? (s/n)n\n"
          ]
        }
      ]
    }
  ]
}